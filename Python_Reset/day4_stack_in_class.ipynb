{
 "cells": [
  {
   "cell_type": "markdown",
   "id": "a0a260d8",
   "metadata": {},
   "source": [
    "#### **Impelement a Stack using a Class.**"
   ]
  },
  {
   "cell_type": "code",
   "execution_count": 34,
   "id": "49455239",
   "metadata": {},
   "outputs": [
    {
     "name": "stdout",
     "output_type": "stream",
     "text": [
      "This Stack works just fine.\n"
     ]
    }
   ],
   "source": [
    "class Stack:\n",
    "    def __init__(self):\n",
    "        self._items = []\n",
    "    \n",
    "    def push(self, element):\n",
    "        self._items.append(element)\n",
    "\n",
    "    def pop(self):\n",
    "        if self.is_empty():\n",
    "            raise IndexError(\"This is an empty Stack.\")\n",
    "        return self._items.pop()\n",
    "\n",
    "    def peek(self):\n",
    "        if self.is_empty():\n",
    "            raise IndexError(\"This is an empty Stack.\")\n",
    "        return self._items[-1]\n",
    "\n",
    "    def is_empty(self):\n",
    "        return not self._items\n",
    "\n",
    "    def size(self):\n",
    "        return len(self._items)\n",
    "    \n",
    "    def __repr__(self):\n",
    "        return self._items\n",
    "    \n",
    "s = Stack()\n",
    "s.push(6)\n",
    "s.push(5)\n",
    "s.push(81)\n",
    "s.push(7)\n",
    "assert s.pop() == 7\n",
    "assert s.peek() == 81\n",
    "assert s.is_empty() == False\n",
    "assert s.size() == 3\n",
    "\n",
    "print(\"This Stack works just fine.\")"
   ]
  },
  {
   "cell_type": "markdown",
   "id": "11c10c60",
   "metadata": {},
   "source": [
    "#### **Reverse a string using Stack.**"
   ]
  },
  {
   "cell_type": "code",
   "execution_count": 5,
   "id": "2b999dcd",
   "metadata": {},
   "outputs": [
    {
     "name": "stdout",
     "output_type": "stream",
     "text": [
      "Original String: ' mama mia  ' | Reversed String: '  aim amam '\n"
     ]
    }
   ],
   "source": [
    "def rev_string(text: str) -> str:\n",
    "    stack = Stack()\n",
    "    for char in text:\n",
    "        stack.push(char)\n",
    "    size = stack.size()\n",
    "    return ''.join(stack.pop() for _ in range(size))\n",
    "\n",
    "assert rev_string(\"123#%2\") == \"2%#321\"\n",
    "assert rev_string(\"akanksha\") == \"ahsknaka\"\n",
    "assert rev_string(\"hello\") == \"olleh\"\n",
    "assert rev_string(\"BlaHH\") == \"HHalB\"\n",
    "assert rev_string(\"Original String\") == \"gnirtS lanigirO\"\n",
    "assert rev_string(\"\") == \"\"\n",
    "\n",
    "try:\n",
    "    text = input(\"Enter a string: \")\n",
    "    print(f\"Original String: \\'{text}\\' | Reversed String: \\'{rev_string(text)}\\'\")\n",
    "except Exception as e:\n",
    "    print(f\"An error occurred: {e}\")"
   ]
  },
  {
   "cell_type": "markdown",
   "id": "c2bba7de",
   "metadata": {},
   "source": [
    "#### **Count Duplicates in a List.**"
   ]
  },
  {
   "cell_type": "code",
   "execution_count": 14,
   "id": "c950df14",
   "metadata": {},
   "outputs": [
    {
     "name": "stdout",
     "output_type": "stream",
     "text": [
      "Original array: ['2', '3', '4', '6', '2', '5', '8', '5', '8', '3']\n",
      "duplicate count is: {'2': 2, '3': 2, '5': 2, '8': 2}\n"
     ]
    }
   ],
   "source": [
    "def count_duplicates(arr: list[int]) -> dict[int, int]:\n",
    "    freq = {}\n",
    "    for num in arr:\n",
    "        freq[num] = freq.get(num, 0) + 1\n",
    "    return {k: v for k, v in freq.items() if v > 1}\n",
    "\n",
    "assert count_duplicates([1, 2, 2, 3, 4, 4, 4]) == {2: 2, 4: 3}\n",
    "\n",
    "try:\n",
    "    arr = input(\"Enter an array: \").split(', ')\n",
    "    print(f\"Original array: {arr}\")\n",
    "    print(f\"duplicate count is: {count_duplicates(arr)}\")\n",
    "except Exception as e:\n",
    "    print(f\"An error occurred: {e}\")"
   ]
  },
  {
   "cell_type": "markdown",
   "id": "75bc9fda",
   "metadata": {},
   "source": [
    "#### **Design a Queue using Two Stacks.**"
   ]
  },
  {
   "cell_type": "code",
   "execution_count": 36,
   "id": "f7c9c688",
   "metadata": {},
   "outputs": [
    {
     "name": "stdout",
     "output_type": "stream",
     "text": [
      "[1, 2, 3]\n",
      "[2, 3, 4]\n"
     ]
    }
   ],
   "source": [
    "class Queue:\n",
    "    def __init__(self):\n",
    "        self._push_stack = Stack()\n",
    "        self._pop_stack = Stack()\n",
    "\n",
    "    def enqueue(self, element):\n",
    "        self._push_stack.push(element)\n",
    "\n",
    "    def dequeue(self):\n",
    "        if self._pop_stack.is_empty():\n",
    "            while not self._push_stack.is_empty():\n",
    "                self._pop_stack.push(self._push_stack.pop())\n",
    "        if self._pop_stack.is_empty():\n",
    "            raise IndexError(\"This is an empty Queue.\")\n",
    "        return self._pop_stack.pop()\n",
    "\n",
    "    def peek(self):\n",
    "        if self._pop_stack.is_empty():\n",
    "            while not self._push_stack.is_empty():\n",
    "                self._pop_stack.push(self._push_stack.pop())\n",
    "        if self._pop_stack.is_empty():\n",
    "            raise IndexError(\"This is an empty Queue.\")\n",
    "        return self._pop_stack.peek()\n",
    "    \n",
    "    def is_empty(self):\n",
    "        return self._pop_stack.is_empty() and self._push_stack.is_empty()\n",
    "    \n",
    "    def que(self):\n",
    "        return list(reversed(self._pop_stack._items)) + self._push_stack._items\n",
    "    \n",
    "q = Queue()\n",
    "q.enqueue(1)\n",
    "q.enqueue(2)\n",
    "q.enqueue(3)\n",
    "print(q.que())\n",
    "assert q.peek() == 1\n",
    "assert q.dequeue() == 1\n",
    "assert q.peek() == 2\n",
    "q.enqueue(4)\n",
    "print(q.que())\n",
    "assert q.dequeue() == 2\n",
    "assert q.dequeue() == 3\n",
    "assert q.dequeue() == 4\n",
    "assert q.is_empty() == True"
   ]
  }
 ],
 "metadata": {
  "kernelspec": {
   "display_name": "Python 3",
   "language": "python",
   "name": "python3"
  },
  "language_info": {
   "codemirror_mode": {
    "name": "ipython",
    "version": 3
   },
   "file_extension": ".py",
   "mimetype": "text/x-python",
   "name": "python",
   "nbconvert_exporter": "python",
   "pygments_lexer": "ipython3",
   "version": "3.11.9"
  }
 },
 "nbformat": 4,
 "nbformat_minor": 5
}
