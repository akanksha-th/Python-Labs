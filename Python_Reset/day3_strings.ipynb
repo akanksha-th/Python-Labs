{
 "cells": [
  {
   "cell_type": "markdown",
   "id": "2d9825d0",
   "metadata": {},
   "source": [
    "#### **Q1. Write a function that reverses only the vowels in a string.**"
   ]
  },
  {
   "cell_type": "code",
   "execution_count": 16,
   "id": "b9d93d9c",
   "metadata": {},
   "outputs": [
    {
     "name": "stdout",
     "output_type": "stream",
     "text": [
      "The string 'hakunamatata' with reversed vowels is: hakanamatuta\n"
     ]
    }
   ],
   "source": [
    "def rev_vowels(text: str) -> str:\n",
    "    \"\"\"\n",
    "    Takes a string and reverses the order of the vowels in it.\n",
    "    Returns a string.\n",
    "    \"\"\"\n",
    "    vowels = set('aeiouAEIOU')\n",
    "    left, right = 0, len(text) - 1 # Two pointers\n",
    "    text_list = list(text)\n",
    "    while left < right:\n",
    "        if text_list[left] in vowels and text_list[right] in vowels:\n",
    "            text_list[left], text_list[right] = text_list[right], text_list[left]\n",
    "            left, right = left + 1, right - 1\n",
    "        elif text_list[left] not in vowels:\n",
    "            left += 1\n",
    "        elif text_list[right] not in vowels:\n",
    "            right -= 1\n",
    "    return ''.join(text_list)\n",
    "\n",
    "assert rev_vowels(\"hello\") == \"holle\"\n",
    "assert rev_vowels(\"HEllo\") == \"HollE\"\n",
    "assert rev_vowels(\"\") == \"\"\n",
    "assert rev_vowels(\"a\") == \"a\"\n",
    "assert rev_vowels(\"aeiouAEIOU\") == \"UOIEAuoiea\"\n",
    "assert rev_vowels(\"h@ll*E!o\") == \"h@ll*o!E\"\n",
    "\n",
    "try:\n",
    "    text = input(\"Enter a string: \")\n",
    "    print(f\"The string \\'{text}\\' with reversed vowels is: {rev_vowels(text)}\")\n",
    "except Exception as e:\n",
    "    print(f\"Encountered an error: {e}\")"
   ]
  },
  {
   "cell_type": "markdown",
   "id": "92a9fac7",
   "metadata": {},
   "source": [
    "#### **Q2. Find the Longest Substring Without Repeating Characters.**"
   ]
  },
  {
   "cell_type": "code",
   "execution_count": null,
   "id": "b21d44e9",
   "metadata": {},
   "outputs": [],
   "source": [
    "def longest_substring(text: str) -> str:\n",
    "    \"\"\"\n",
    "    Finds the longest substring without repeating characters.\n",
    "    Returns the substring.\n",
    "    \"\"\"\n",
    "    pass\n",
    "\n",
    "\n",
    "assert longest_substring(\"abcabcbb\") == \"abc\"\n",
    "assert longest_substring(\"bbbbb\") == \"b\"\n",
    "assert longest_substring(\"pwwkew\") == \"wke\"\n",
    "assert longest_substring(\"a\") == \"a\"\n",
    "\n",
    "try:\n",
    "    text = input(\"Enter the string: \")\n",
    "    print(f\"The longest substring without repeating characters in \\'{text}\\' is: {longest_substring(text)}\")\n",
    "except Exception as e:\n",
    "    print(f\"Encountered an error: {e}\")"
   ]
  },
  {
   "cell_type": "markdown",
   "id": "9b9d190f",
   "metadata": {},
   "source": [
    "#### **Q3. Group Shifted Strings -- Two strings belong to the same group if each character can be “shifted” to get the other (circularly).**"
   ]
  },
  {
   "cell_type": "markdown",
   "id": "41530cf5",
   "metadata": {},
   "source": []
  },
  {
   "cell_type": "markdown",
   "id": "0e320005",
   "metadata": {},
   "source": [
    "#### **Q4. Given a string and a pattern, find all anagram substrings of the pattern in the string.**"
   ]
  },
  {
   "cell_type": "markdown",
   "id": "8c44f4e4",
   "metadata": {},
   "source": []
  },
  {
   "cell_type": "markdown",
   "id": "9d9cff59",
   "metadata": {},
   "source": [
    "#### **Q5. Given strings s and t, return the smallest window in s that contains all the characters of t.**"
   ]
  },
  {
   "cell_type": "markdown",
   "id": "72301edf",
   "metadata": {},
   "source": []
  }
 ],
 "metadata": {
  "kernelspec": {
   "display_name": "Python 3",
   "language": "python",
   "name": "python3"
  },
  "language_info": {
   "codemirror_mode": {
    "name": "ipython",
    "version": 3
   },
   "file_extension": ".py",
   "mimetype": "text/x-python",
   "name": "python",
   "nbconvert_exporter": "python",
   "pygments_lexer": "ipython3",
   "version": "3.11.9"
  }
 },
 "nbformat": 4,
 "nbformat_minor": 5
}
