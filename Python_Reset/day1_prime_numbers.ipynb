{
 "cells": [
  {
   "cell_type": "markdown",
   "id": "53fc1953",
   "metadata": {},
   "source": [
    "### **Prime Numbers**"
   ]
  },
  {
   "cell_type": "markdown",
   "id": "c5443a99",
   "metadata": {},
   "source": [
    "#### **Q1. Check primality.**"
   ]
  },
  {
   "cell_type": "code",
   "execution_count": null,
   "id": "358f0035",
   "metadata": {},
   "outputs": [
    {
     "name": "stdout",
     "output_type": "stream",
     "text": [
      "76 is not a prime number.\n"
     ]
    }
   ],
   "source": [
    "# Primality test: \n",
    "# Given an input number, n, check whether it is divisible by any prime number between 2 and sqrt(n). \n",
    "# If so, then n is composite. Otherwise, it is prime\n",
    "\n",
    "from math import sqrt\n",
    "\n",
    "num = int(input(\"Enter a number: \"))\n",
    "[low, high] = [2, int(sqrt(num))]\n",
    "\n",
    "for i in range(low, high+1):\n",
    "    if num % i == 0:\n",
    "        print(f\"{num} is not a prime number.\")\n",
    "        break\n",
    "else: # this is tied to the for loop, not the if statement\n",
    "    print(f\"{num} is a prime number.\")\n",
    "    "
   ]
  },
  {
   "cell_type": "code",
   "execution_count": 13,
   "id": "98326ec3",
   "metadata": {},
   "outputs": [
    {
     "name": "stdout",
     "output_type": "stream",
     "text": [
      "1 is not a prime number.\n"
     ]
    }
   ],
   "source": [
    "def is_prime(n: int) -> bool:\n",
    "    if n < 2: return False\n",
    "    elif n == 2: return True\n",
    "    elif n % 2 == 0: return False\n",
    "    for i in range(3, int(n**0.5)+1, 2): # even numbers beyond 2 are all non-prime garbage\n",
    "        if n % i == 0: return False\n",
    "    return True\n",
    "\n",
    "assert is_prime(0) == False\n",
    "assert is_prime(1) == False\n",
    "assert is_prime(2) == True\n",
    "assert is_prime(4) == False\n",
    "assert is_prime(-23) == False\n",
    "assert is_prime(97) == True\n",
    "\n",
    "if __name__ == \"__main__\":\n",
    "    try:\n",
    "        num = int(input(\"Enter a number: \"))\n",
    "        if is_prime(num):\n",
    "            print(f\"{num} is a prime number.\")\n",
    "        else:\n",
    "            print(f\"{num} is not a prime number.\")\n",
    "    except ValueError:\n",
    "        print(\"Please enter a valid integer.\")"
   ]
  },
  {
   "cell_type": "markdown",
   "id": "8b5366ee",
   "metadata": {},
   "source": [
    "#### **Q2. Build a list of first k prime numbers.**"
   ]
  },
  {
   "cell_type": "code",
   "execution_count": 35,
   "id": "34b45eae",
   "metadata": {},
   "outputs": [
    {
     "name": "stdout",
     "output_type": "stream",
     "text": [
      "First 22 primes numbers are: [2, 3, 5, 7, 11, 13, 17, 19, 23, 29, 31, 37, 41, 43, 47, 53, 59, 61, 67, 71, 73, 79]\n"
     ]
    }
   ],
   "source": [
    "def first_k_primes(limit: int) -> list[int]:\n",
    "    if limit == 1: return [2]\n",
    "    elif limit < 1: return []\n",
    "    primes = [2]\n",
    "    num = 3\n",
    "    while len(primes) < limit:\n",
    "        for p in primes:\n",
    "            if num % p == 0:\n",
    "                break\n",
    "        else:\n",
    "            primes.append(num)\n",
    "        num += 2\n",
    "    return primes\n",
    "\n",
    "assert first_k_primes(1) == [2]\n",
    "assert first_k_primes(4) == [2, 3, 5, 7]\n",
    "assert first_k_primes(8) == [2, 3, 5, 7, 11, 13, 17, 19]\n",
    "assert first_k_primes(25) == [2, 3, 5, 7, 11, 13, 17, 19, 23, 29, 31, 37, 41, 43, 47, 53, 59, 61, 67, 71, 73, 79, 83, 89, 97]\n",
    "\n",
    "if __name__ == \"__main__\":\n",
    "    try:\n",
    "        limit = int(input(\"Enter the limit: \"))\n",
    "        print(f\"First {limit} primes numbers are: {first_k_primes(limit)}\")\n",
    "    except ValueError:\n",
    "        print(\"Please enter a valid integer.\")"
   ]
  },
  {
   "cell_type": "markdown",
   "id": "5bcc9dd9",
   "metadata": {},
   "source": [
    "#### **Q3. Generate all primes below n fast, using the Sieve of Eratosthenes. (memory safe upto 10 million)**"
   ]
  },
  {
   "cell_type": "code",
   "execution_count": null,
   "id": "69a64ad6",
   "metadata": {},
   "outputs": [
    {
     "ename": "",
     "evalue": "",
     "output_type": "error",
     "traceback": [
      "\u001b[1;31mThe Kernel crashed while executing code in the current cell or a previous cell. \n",
      "\u001b[1;31mPlease review the code in the cell(s) to identify a possible cause of the failure. \n",
      "\u001b[1;31mClick <a href='https://aka.ms/vscodeJupyterKernelCrash'>here</a> for more info. \n",
      "\u001b[1;31mView Jupyter <a href='command:jupyter.viewOutput'>log</a> for further details."
     ]
    }
   ],
   "source": [
    "def generate_primes(limit: int) -> list[int]:\n",
    "    pass"
   ]
  },
  {
   "cell_type": "markdown",
   "id": "04f6510d",
   "metadata": {},
   "source": [
    "#### **Q4. Find the n-th prime number quickly.**"
   ]
  },
  {
   "cell_type": "code",
   "execution_count": null,
   "id": "a367e264",
   "metadata": {},
   "outputs": [],
   "source": []
  },
  {
   "cell_type": "markdown",
   "id": "ac725964",
   "metadata": {},
   "source": [
    "#### **Q5. Return all palindromic primes below n.**"
   ]
  },
  {
   "cell_type": "markdown",
   "id": "083758b5",
   "metadata": {},
   "source": []
  },
  {
   "cell_type": "markdown",
   "id": "c0380655",
   "metadata": {},
   "source": [
    "#### **Q6. Analyze the gaps between consecutive primes under a given n.**"
   ]
  },
  {
   "cell_type": "markdown",
   "id": "369a6293",
   "metadata": {},
   "source": []
  },
  {
   "cell_type": "markdown",
   "id": "ebbfe684",
   "metadata": {},
   "source": [
    "#### **Q7. Generate all primes in the range [low, high] efficiently, even when high is 10^9.**"
   ]
  },
  {
   "cell_type": "markdown",
   "id": "fc14234d",
   "metadata": {},
   "source": []
  }
 ],
 "metadata": {
  "kernelspec": {
   "display_name": "Python 3",
   "language": "python",
   "name": "python3"
  },
  "language_info": {
   "codemirror_mode": {
    "name": "ipython",
    "version": 3
   },
   "file_extension": ".py",
   "mimetype": "text/x-python",
   "name": "python",
   "nbconvert_exporter": "python",
   "pygments_lexer": "ipython3",
   "version": "3.11.9"
  }
 },
 "nbformat": 4,
 "nbformat_minor": 5
}
