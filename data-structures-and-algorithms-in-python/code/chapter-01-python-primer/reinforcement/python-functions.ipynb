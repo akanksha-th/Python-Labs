{
 "cells": [
  {
   "cell_type": "code",
   "execution_count": 5,
   "id": "4e160343",
   "metadata": {},
   "outputs": [
    {
     "name": "stdout",
     "output_type": "stream",
     "text": [
      "All basic tests passed.\n",
      "True\n"
     ]
    },
    {
     "ename": "AssertionError",
     "evalue": "The divisor m must not be zero.",
     "output_type": "error",
     "traceback": [
      "\u001b[1;31m---------------------------------------------------------------------------\u001b[0m",
      "\u001b[1;31mAssertionError\u001b[0m                            Traceback (most recent call last)",
      "Cell \u001b[1;32mIn[5], line 11\u001b[0m\n\u001b[0;32m      9\u001b[0m \u001b[38;5;28mprint\u001b[39m(\u001b[38;5;124m\"\u001b[39m\u001b[38;5;124mAll basic tests passed.\u001b[39m\u001b[38;5;124m\"\u001b[39m)\n\u001b[0;32m     10\u001b[0m \u001b[38;5;28mprint\u001b[39m(is_multiple(\u001b[38;5;241m10\u001b[39m, \u001b[38;5;241m5\u001b[39m))\n\u001b[1;32m---> 11\u001b[0m \u001b[38;5;28mprint\u001b[39m(\u001b[43mis_multiple\u001b[49m\u001b[43m(\u001b[49m\u001b[38;5;241;43m3\u001b[39;49m\u001b[43m,\u001b[49m\u001b[43m \u001b[49m\u001b[38;5;241;43m0\u001b[39;49m\u001b[43m)\u001b[49m)\n",
      "Cell \u001b[1;32mIn[5], line 2\u001b[0m, in \u001b[0;36mis_multiple\u001b[1;34m(n, m)\u001b[0m\n\u001b[0;32m      1\u001b[0m \u001b[38;5;28;01mdef\u001b[39;00m\u001b[38;5;250m \u001b[39m\u001b[38;5;21mis_multiple\u001b[39m(n, m):\n\u001b[1;32m----> 2\u001b[0m     \u001b[38;5;28;01massert\u001b[39;00m m \u001b[38;5;241m!=\u001b[39m \u001b[38;5;241m0\u001b[39m, \u001b[38;5;124m\"\u001b[39m\u001b[38;5;124mThe divisor m must not be zero.\u001b[39m\u001b[38;5;124m\"\u001b[39m\n\u001b[0;32m      3\u001b[0m     \u001b[38;5;28;01mreturn\u001b[39;00m n \u001b[38;5;241m%\u001b[39m m \u001b[38;5;241m==\u001b[39m \u001b[38;5;241m0\u001b[39m\n",
      "\u001b[1;31mAssertionError\u001b[0m: The divisor m must not be zero."
     ]
    }
   ],
   "source": [
    "def is_multiple(n, m):\n",
    "    assert m != 0, \"The divisor m must not be zero.\"\n",
    "    return n % m == 0\n",
    "\n",
    "assert is_multiple(4, 2) == True\n",
    "assert is_multiple(4, 3) == False\n",
    "assert is_multiple(0, 3) == True\n",
    "\n",
    "print(\"All basic tests passed.\")\n",
    "print(is_multiple(10, 5))\n",
    "print(is_multiple(3, 0))"
   ]
  },
  {
   "cell_type": "code",
   "execution_count": 10,
   "id": "b239481c",
   "metadata": {},
   "outputs": [
    {
     "name": "stdout",
     "output_type": "stream",
     "text": [
      "All basic tests passed.\n",
      "True\n"
     ]
    }
   ],
   "source": [
    "def is_even(k:int) -> bool:\n",
    "    return k%2 == 0\n",
    "\n",
    "assert is_even(4) == True\n",
    "assert is_even(3) == False\n",
    "\n",
    "print(\"All basic tests passed.\")\n",
    "print(is_even(10))"
   ]
  },
  {
   "cell_type": "code",
   "execution_count": null,
   "id": "3ae73aa3",
   "metadata": {},
   "outputs": [
    {
     "name": "stdout",
     "output_type": "stream",
     "text": [
      "[4, 5, 6, 7]\n",
      "(4, 7)\n",
      "[4]\n",
      "(4, 4)\n"
     ]
    }
   ],
   "source": [
    "def minmax(data):\n",
    "    data = sorted(data)\n",
    "    min = data[0]\n",
    "    max = data[-1]\n",
    "    return (min, max)\n",
    "\n",
    "print(minmax([6, 4, 7, 5]))\n",
    "print(minmax([4]))"
   ]
  },
  {
   "cell_type": "code",
   "execution_count": 4,
   "id": "643361f7",
   "metadata": {},
   "outputs": [
    {
     "name": "stdout",
     "output_type": "stream",
     "text": [
      "14\n",
      "14\n"
     ]
    }
   ],
   "source": [
    "def sos_brute(n):\n",
    "    result = 0\n",
    "    for i in range(n):\n",
    "        result += i*i\n",
    "    return result\n",
    "\n",
    "def sos(n):\n",
    "    return sum(i*i for i in range(n))\n",
    "\n",
    "print(sos_brute(4))\n",
    "print(sos(4))"
   ]
  },
  {
   "cell_type": "code",
   "execution_count": 5,
   "id": "b611856f",
   "metadata": {},
   "outputs": [
    {
     "name": "stdout",
     "output_type": "stream",
     "text": [
      "35\n",
      "35\n"
     ]
    }
   ],
   "source": [
    "def sos_odd_brute(n:int):\n",
    "    result = 0\n",
    "    for i in range(n):\n",
    "        if i%2 != 0:\n",
    "            result += i*i\n",
    "    return result\n",
    "\n",
    "def sos_odd(n:int):\n",
    "    return sum(i*i for i in range(n) if i%2 !=0)\n",
    "\n",
    "print(sos_odd_brute(6))\n",
    "print(sos_odd(6))"
   ]
  },
  {
   "cell_type": "code",
   "execution_count": 22,
   "id": "f8d7b933",
   "metadata": {},
   "outputs": [
    {
     "name": "stdout",
     "output_type": "stream",
     "text": [
      "n\n",
      "o\n"
     ]
    }
   ],
   "source": [
    "def get_pos_index(seq, k:int):\n",
    "    length = len(seq)\n",
    "    # j = length + k\n",
    "    return seq[length+k]\n",
    "\n",
    "\n",
    "print(get_pos_index(\"saxophones\", -3))\n",
    "print(get_pos_index(\"saxophones\", -7))"
   ]
  },
  {
   "cell_type": "code",
   "execution_count": 8,
   "id": "42019980",
   "metadata": {},
   "outputs": [
    {
     "name": "stdout",
     "output_type": "stream",
     "text": [
      "[50, 60, 70, 80]\n",
      "[8, 6, 4, 2, 0, -2, -4, -6, -8]\n"
     ]
    }
   ],
   "source": [
    "def range_constructor(start:int, end:int, step:int = 1):\n",
    "    return [i for i in range(start, end, step)]\n",
    "    \n",
    "print(range_constructor(50, 90, 10))\n",
    "print(range_constructor(8, -10, -2))"
   ]
  },
  {
   "cell_type": "code",
   "execution_count": 9,
   "id": "c9d7f798",
   "metadata": {},
   "outputs": [
    {
     "name": "stdout",
     "output_type": "stream",
     "text": [
      "[1, 2, 4, 8, 16, 32, 64, 128, 256]\n"
     ]
    }
   ],
   "source": [
    "#produce the list [1, 2, 4, 8, 16, 32, 64, 128, 256]\n",
    "def produce_list(n:int):\n",
    "    return [2**i for i in range(n)]\n",
    "\n",
    "print(produce_list(9))"
   ]
  },
  {
   "cell_type": "code",
   "execution_count": 20,
   "id": "bf1ccde2",
   "metadata": {},
   "outputs": [
    {
     "name": "stdout",
     "output_type": "stream",
     "text": [
      "256\n"
     ]
    },
    {
     "data": {
      "text/plain": [
       "8"
      ]
     },
     "execution_count": 20,
     "metadata": {},
     "output_type": "execute_result"
    }
   ],
   "source": [
    "import random\n",
    "\n",
    "seq = [1, 2, 4, 8, 16, 32, 64, 128, 256]\n",
    "print(random.choice(seq))\n",
    "\n",
    "# Or equivalently\n",
    "index = random.randrange(len(seq))\n",
    "seq[index]"
   ]
  },
  {
   "cell_type": "markdown",
   "id": "4aaefa2b",
   "metadata": {},
   "source": [
    "---"
   ]
  },
  {
   "cell_type": "code",
   "execution_count": 19,
   "id": "606002d4",
   "metadata": {},
   "outputs": [
    {
     "name": "stdout",
     "output_type": "stream",
     "text": [
      "All basic tests passed.\n",
      "-10000110010001\n",
      "11010000100001\n"
     ]
    }
   ],
   "source": [
    "# Write a Python function decimal_to_binary(n) that takes a non-negative integer n \n",
    "# and returns a string representing its binary form without using the built-in bin() function.\n",
    "\n",
    "def decimal_to_binary(n:int) -> str:\n",
    "    bin = \"\"\n",
    "    if n == 0:\n",
    "        return bin.join(['0'])\n",
    "    pos_n = abs(n)\n",
    "    while pos_n>0 :\n",
    "        pos_n, bin = pos_n//2, str(pos_n%2) + bin\n",
    "    return '-'+bin if n<0 else bin\n",
    "\n",
    "assert decimal_to_binary(13) == bin(13)[2:]\n",
    "assert decimal_to_binary(0) == bin(0)[2:]\n",
    "assert decimal_to_binary(255) == bin(255)[2:]\n",
    "assert decimal_to_binary(1024) == bin(1024)[2:]\n",
    "assert decimal_to_binary(-18) == '-'+bin(-18)[3:]\n",
    "print(\"All basic tests passed.\")\n",
    "\n",
    "print(decimal_to_binary(-8593))\n",
    "print(decimal_to_binary(13345))"
   ]
  },
  {
   "cell_type": "code",
   "execution_count": null,
   "id": "7c376db3",
   "metadata": {},
   "outputs": [
    {
     "data": {
      "text/plain": [
       "'-11'"
      ]
     },
     "execution_count": 8,
     "metadata": {},
     "output_type": "execute_result"
    }
   ],
   "source": [
    "# Write a function reverse_int(n) that takes a positive integer n and \n",
    "# returns the integer obtained by reversing its digits — without converting it to a string.\n",
    "\n"
   ]
  },
  {
   "cell_type": "code",
   "execution_count": null,
   "id": "df5b4e8b",
   "metadata": {},
   "outputs": [],
   "source": []
  }
 ],
 "metadata": {
  "kernelspec": {
   "display_name": "Python 3",
   "language": "python",
   "name": "python3"
  },
  "language_info": {
   "codemirror_mode": {
    "name": "ipython",
    "version": 3
   },
   "file_extension": ".py",
   "mimetype": "text/x-python",
   "name": "python",
   "nbconvert_exporter": "python",
   "pygments_lexer": "ipython3",
   "version": "3.11.9"
  }
 },
 "nbformat": 4,
 "nbformat_minor": 5
}
