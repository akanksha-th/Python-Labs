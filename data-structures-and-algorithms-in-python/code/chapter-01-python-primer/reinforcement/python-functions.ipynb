{
 "cells": [
  {
   "cell_type": "code",
   "execution_count": 5,
   "id": "4e160343",
   "metadata": {},
   "outputs": [
    {
     "name": "stdout",
     "output_type": "stream",
     "text": [
      "All basic tests passed.\n",
      "True\n"
     ]
    },
    {
     "ename": "AssertionError",
     "evalue": "The divisor m must not be zero.",
     "output_type": "error",
     "traceback": [
      "\u001b[1;31m---------------------------------------------------------------------------\u001b[0m",
      "\u001b[1;31mAssertionError\u001b[0m                            Traceback (most recent call last)",
      "Cell \u001b[1;32mIn[5], line 11\u001b[0m\n\u001b[0;32m      9\u001b[0m \u001b[38;5;28mprint\u001b[39m(\u001b[38;5;124m\"\u001b[39m\u001b[38;5;124mAll basic tests passed.\u001b[39m\u001b[38;5;124m\"\u001b[39m)\n\u001b[0;32m     10\u001b[0m \u001b[38;5;28mprint\u001b[39m(is_multiple(\u001b[38;5;241m10\u001b[39m, \u001b[38;5;241m5\u001b[39m))\n\u001b[1;32m---> 11\u001b[0m \u001b[38;5;28mprint\u001b[39m(\u001b[43mis_multiple\u001b[49m\u001b[43m(\u001b[49m\u001b[38;5;241;43m3\u001b[39;49m\u001b[43m,\u001b[49m\u001b[43m \u001b[49m\u001b[38;5;241;43m0\u001b[39;49m\u001b[43m)\u001b[49m)\n",
      "Cell \u001b[1;32mIn[5], line 2\u001b[0m, in \u001b[0;36mis_multiple\u001b[1;34m(n, m)\u001b[0m\n\u001b[0;32m      1\u001b[0m \u001b[38;5;28;01mdef\u001b[39;00m\u001b[38;5;250m \u001b[39m\u001b[38;5;21mis_multiple\u001b[39m(n, m):\n\u001b[1;32m----> 2\u001b[0m     \u001b[38;5;28;01massert\u001b[39;00m m \u001b[38;5;241m!=\u001b[39m \u001b[38;5;241m0\u001b[39m, \u001b[38;5;124m\"\u001b[39m\u001b[38;5;124mThe divisor m must not be zero.\u001b[39m\u001b[38;5;124m\"\u001b[39m\n\u001b[0;32m      3\u001b[0m     \u001b[38;5;28;01mreturn\u001b[39;00m n \u001b[38;5;241m%\u001b[39m m \u001b[38;5;241m==\u001b[39m \u001b[38;5;241m0\u001b[39m\n",
      "\u001b[1;31mAssertionError\u001b[0m: The divisor m must not be zero."
     ]
    }
   ],
   "source": [
    "def is_multiple(n, m):\n",
    "    assert m != 0, \"The divisor m must not be zero.\"\n",
    "    return n % m == 0\n",
    "\n",
    "assert is_multiple(4, 2) == True\n",
    "assert is_multiple(4, 3) == False\n",
    "assert is_multiple(0, 3) == True\n",
    "\n",
    "print(\"All basic tests passed.\")\n",
    "print(is_multiple(10, 5))\n",
    "print(is_multiple(3, 0))"
   ]
  },
  {
   "cell_type": "code",
   "execution_count": 10,
   "id": "b239481c",
   "metadata": {},
   "outputs": [
    {
     "name": "stdout",
     "output_type": "stream",
     "text": [
      "All basic tests passed.\n",
      "True\n"
     ]
    }
   ],
   "source": [
    "def is_even(k:int) -> bool:\n",
    "    return k%2 == 0\n",
    "\n",
    "assert is_even(4) == True\n",
    "assert is_even(3) == False\n",
    "\n",
    "print(\"All basic tests passed.\")\n",
    "print(is_even(10))"
   ]
  },
  {
   "cell_type": "code",
   "execution_count": null,
   "id": "3ae73aa3",
   "metadata": {},
   "outputs": [
    {
     "name": "stdout",
     "output_type": "stream",
     "text": [
      "[4, 5, 6, 7]\n",
      "(4, 7)\n",
      "[4]\n",
      "(4, 4)\n"
     ]
    }
   ],
   "source": [
    "def minmax(data):\n",
    "    data = sorted(data)\n",
    "    min = data[0]\n",
    "    max = data[-1]\n",
    "    return (min, max)\n",
    "\n",
    "print(minmax([6, 4, 7, 5]))\n",
    "print(minmax([4]))"
   ]
  },
  {
   "cell_type": "code",
   "execution_count": null,
   "id": "643361f7",
   "metadata": {},
   "outputs": [],
   "source": []
  }
 ],
 "metadata": {
  "kernelspec": {
   "display_name": "Python 3",
   "language": "python",
   "name": "python3"
  },
  "language_info": {
   "codemirror_mode": {
    "name": "ipython",
    "version": 3
   },
   "file_extension": ".py",
   "mimetype": "text/x-python",
   "name": "python",
   "nbconvert_exporter": "python",
   "pygments_lexer": "ipython3",
   "version": "3.11.9"
  }
 },
 "nbformat": 4,
 "nbformat_minor": 5
}
