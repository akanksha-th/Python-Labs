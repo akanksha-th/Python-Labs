{
 "cells": [
  {
   "cell_type": "markdown",
   "id": "dd8671b6",
   "metadata": {},
   "source": [
    "#### **Fixed Sized Queue**"
   ]
  },
  {
   "cell_type": "code",
   "execution_count": 24,
   "id": "b2930e49",
   "metadata": {},
   "outputs": [
    {
     "data": {
      "text/plain": [
       "[4, 5, 6, 9]"
      ]
     },
     "execution_count": 24,
     "metadata": {},
     "output_type": "execute_result"
    }
   ],
   "source": [
    "arr = [3,4,5,6,9]\n",
    "arr.reverse()\n",
    "arr.pop()\n",
    "arr.reverse()\n",
    "arr"
   ]
  },
  {
   "cell_type": "code",
   "execution_count": 31,
   "id": "6baa6c01",
   "metadata": {},
   "outputs": [
    {
     "name": "stdout",
     "output_type": "stream",
     "text": [
      "The Queue is working FINE.\n"
     ]
    }
   ],
   "source": [
    "class Queue:\n",
    "    def __init__(self, size):\n",
    "        self._items = []\n",
    "        self.size = size\n",
    "    \n",
    "    def is_empty(self):\n",
    "        return not self._items\n",
    "\n",
    "    def is_full(self):\n",
    "        return len(self._items) == self.size\n",
    "    \n",
    "    def enqueue(self, item):\n",
    "        if self.is_full():\n",
    "            raise IndexError(\"The Queue is already full.\")\n",
    "        self._items.append(item)\n",
    "\n",
    "    def dequeue(self):\n",
    "        # if not self.is_empty():\n",
    "        #     self._items.reverse()\n",
    "        #     popped = self._items.pop()\n",
    "        #     self._items.reverse()\n",
    "        # return popped\n",
    "        if self.is_empty():\n",
    "            raise IndexError(\"The Queue is empty.\")\n",
    "        return self._items.pop(0)\n",
    "\n",
    "\n",
    "q = Queue(5)\n",
    "q.enqueue(6)\n",
    "q.enqueue(2)\n",
    "q.enqueue(7)\n",
    "q.enqueue(3)\n",
    "assert q.dequeue() == 6\n",
    "assert q.dequeue() == 2\n",
    "assert q.dequeue() == 7\n",
    "assert q.is_full() == False\n",
    "q.dequeue()\n",
    "assert q.is_empty() == True\n",
    "\n",
    "print(\"The Queue is working FINE.\")"
   ]
  },
  {
   "cell_type": "markdown",
   "id": "19354bd7",
   "metadata": {},
   "source": [
    "#### **Usage Tracker with Ordering: Create a system that tracks access order for keys. Every time a key is accessed, it should move to the end of the “recent” list.**"
   ]
  },
  {
   "cell_type": "code",
   "execution_count": null,
   "id": "28136bdb",
   "metadata": {},
   "outputs": [],
   "source": [
    "class AccessTracker:\n",
    "    def __init__(self):\n",
    "        self._items = []\n",
    "\n",
    "    def access(self, key):\n",
    "        if key in self._items:\n",
    "            self._items.remove(key)\n",
    "        self._items.append(key)\n",
    "\n",
    "    def get_access_order(self):\n",
    "        return self._items\n",
    "\n",
    "\n",
    "tracker = AccessTracker()\n",
    "tracker.access(\"A\") # [\"A\"]\n",
    "tracker.access(\"B\") # [\"A\", \"B\"]\n",
    "tracker.access(\"A\") # [\"B\", \"A\"]\n",
    "tracker.access(\"A\") # [\"A\"]\n",
    "tracker.access(\"C\") # [\"A\", \"C\"]\n",
    "assert tracker.get_access_order() == [\"B\", \"A\", \"C\"]"
   ]
  },
  {
   "cell_type": "code",
   "execution_count": 1,
   "id": "1f8fc1e2",
   "metadata": {},
   "outputs": [],
   "source": [
    "from collections import OrderedDict\n",
    "\n",
    "class AccessTracker_easy:\n",
    "    def __init__(self):\n",
    "        self._items = []\n",
    "        self.od = OrderedDict()\n",
    "\n",
    "    def access_(self, item):\n",
    "        self.od[item] = True\n",
    "        self.od.move_to_end(item)\n",
    "\n",
    "    def get_access_order_(self):\n",
    "        return list(self.od.keys())\n",
    "    \n",
    "\n",
    "tracker = AccessTracker_easy()\n",
    "tracker.access_(\"A\") # [\"A\"]\n",
    "tracker.access_(\"B\") # [\"A\", \"B\"]\n",
    "tracker.access_(\"A\") # [\"B\", \"A\"]\n",
    "tracker.access_(\"A\") # [\"A\"]\n",
    "tracker.access_(\"C\") # [\"A\", \"C\"]\n",
    "assert tracker.get_access_order_() == [\"B\", \"A\", \"C\"]"
   ]
  },
  {
   "cell_type": "markdown",
   "id": "c6343304",
   "metadata": {},
   "source": [
    "#### **LRU Cache Lite: Build a class that stores key-value pairs, but only keeps the most recently used N items. When it reaches its capacity, it evicts the least recently used item before adding a new one.**"
   ]
  },
  {
   "cell_type": "code",
   "execution_count": 7,
   "id": "6f734434",
   "metadata": {},
   "outputs": [
    {
     "data": {
      "text/plain": [
       "4"
      ]
     },
     "execution_count": 7,
     "metadata": {},
     "output_type": "execute_result"
    }
   ],
   "source": [
    "from collections import OrderedDict\n",
    "\n",
    "class LRUCacheLite:\n",
    "    def __init__(self, size):\n",
    "        self.size = size\n",
    "        self._od = OrderedDict()\n",
    "\n",
    "    def put(self, cache_key, value):\n",
    "        if len(self._od) < self.size:\n",
    "            self._od[cache_key] = value\n",
    "            self._od.move_to_end(cache_key)\n",
    "        elif len(self._od) >= self.size:\n",
    "            self._od.popitem(last=False) # FIFO order\n",
    "            self._od[cache_key] = value\n",
    "        else:\n",
    "            # the cache key is just space\n",
    "            self._od[cache_key] = value\n",
    "\n",
    "    def get(self, cache_key):\n",
    "        if cache_key in self._od:\n",
    "            self._od.move_to_end(cache_key)\n",
    "            return self._od[cache_key]\n",
    "        return None\n",
    "\n",
    "cache = LRUCacheLite(2)\n",
    "cache.put(\"a\", 1)\n",
    "cache.put(\"b\", 2)\n",
    "assert cache.get(\"a\") == 1          # returns 1\n",
    "cache.put(\"c\", 3)       # \"b\" gets evicted\n",
    "cache.put(\"d\", 4)   \n",
    "assert cache.get(\"b\") == None         # returns None\n",
    "assert cache.get(\"c\") == 3         # returns 3\n",
    "cache.get(\"d\")"
   ]
  }
 ],
 "metadata": {
  "kernelspec": {
   "display_name": "Python 3",
   "language": "python",
   "name": "python3"
  },
  "language_info": {
   "codemirror_mode": {
    "name": "ipython",
    "version": 3
   },
   "file_extension": ".py",
   "mimetype": "text/x-python",
   "name": "python",
   "nbconvert_exporter": "python",
   "pygments_lexer": "ipython3",
   "version": "3.11.9"
  }
 },
 "nbformat": 4,
 "nbformat_minor": 5
}
