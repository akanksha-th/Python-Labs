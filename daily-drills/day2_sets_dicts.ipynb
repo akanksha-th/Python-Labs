{
 "cells": [
  {
   "cell_type": "markdown",
   "id": "f562db4c",
   "metadata": {},
   "source": [
    "#### **Q1. Given a paragraph of text, return how many unique words it contains. Ignore case, strip punctuation.**"
   ]
  },
  {
   "cell_type": "code",
   "execution_count": null,
   "id": "31726a7d",
   "metadata": {},
   "outputs": [
    {
     "name": "stdout",
     "output_type": "stream",
     "text": [
      "Number of unique words in 'lol lmaoo LOL' are: 2\n"
     ]
    }
   ],
   "source": [
    "import re\n",
    "\n",
    "def count_unique_words(text: str) -> int:\n",
    "    \"\"\"\n",
    "    Counts the number of unique words in the given text, excluding punctuation and whitespace.\n",
    "    Returns an integer value.\n",
    "    \"\"\"\n",
    "    clean_text = re.sub(r'[^\\w\\s]', '', text)  # Remove punctuation\n",
    "    words = clean_text.lower().split() # Normalize to title case and split into words\n",
    "    unique_words = set(words)\n",
    "    return len(unique_words)\n",
    "\n",
    "assert count_unique_words(\"Hello world\") == 2\n",
    "assert count_unique_words(\"Hello hello\") == 1\n",
    "assert count_unique_words(\"McDonald's is a crazy food chain!!!\") == 6\n",
    "assert count_unique_words(\"Hello, Hello. HELLO! World\") == 2\n",
    "\n",
    "if __name__ == \"__main__\":\n",
    "    try:\n",
    "        text = input(\"Enter a sentence: \")\n",
    "        print(f\"Number of unique words in \\'{text}\\' are: {count_unique_words(text)}\")\n",
    "    except Exception as e:\n",
    "        print(f\"An error occurred: {e}\")\n"
   ]
  },
  {
   "cell_type": "markdown",
   "id": "4733ee5c",
   "metadata": {},
   "source": [
    "#### **Q2. Return a dictionary of character → frequency (excluding whitespace and punctuation).**"
   ]
  },
  {
   "cell_type": "code",
   "execution_count": null,
   "id": "08ea2960",
   "metadata": {},
   "outputs": [
    {
     "name": "stdout",
     "output_type": "stream",
     "text": [
      "Character frequency in 'Hey, hope this workd, huh!!' is: {'h': 5, 'e': 2, 'y': 1, 'o': 2, 'p': 1, 't': 1, 'i': 1, 's': 1, 'w': 1, 'r': 1, 'k': 1, 'd': 1, 'u': 1}\n"
     ]
    }
   ],
   "source": [
    "import re\n",
    "def char_frequency(text: str) -> dict:\n",
    "    \"\"\"\n",
    "    Counts frequency of each character in the given text, excluding punctuation and whitespace.\n",
    "    Returns a dictionary of {char: count}.\n",
    "    \"\"\"\n",
    "    clean_text = re.sub(r'[^\\w\\s]', '', text).lower().split()\n",
    "    frequency = {}\n",
    "    for word in clean_text:\n",
    "        for char in word:\n",
    "            if char in frequency:\n",
    "                frequency[char] += 1\n",
    "            else:\n",
    "                frequency[char] = 1\n",
    "    return frequency\n",
    "\n",
    "assert char_frequency(\"Python! Rocks.\") == {'p':1, 'y':1, 't':1, 'h':1, 'o':2, 'n':1, 'r':1, 'c':1, 'k':1, 's':1}\n",
    "assert char_frequency(\"Hello World\") == {'h':1, 'e':1, 'l':3, 'o':2, 'w':1, 'r':1, 'd':1}\n",
    "assert char_frequency(\"McDonald's\") == {'m':1, 'c':1, 'd':2, 'o':1, 'n':1, 'a':1, 'l':1, 's':1}\n",
    "assert char_frequency(\"Hello, Hello. HELLO! World\") == {'h':3, 'e':3, 'l':7, 'o':4, 'w':1, 'r':1, 'd':1}\n",
    "assert char_frequency(\"Akanksha\") == {'a':3, 'k':2, 'n':1, 's':1, 'h':1}\n",
    "\n",
    "if __name__ == \"__main__\":\n",
    "    try:\n",
    "        text = input(\"Enter a sentence: \")\n",
    "        print(f\"Character frequency in \\'{text}\\' is: {char_frequency(text)}\")\n",
    "    except Exception as e:\n",
    "        print(f\"An error occurred: {e}\")"
   ]
  },
  {
   "cell_type": "markdown",
   "id": "bd3880fd",
   "metadata": {},
   "source": [
    "#### **Q3. Group all words that are anagrams of each other.**"
   ]
  },
  {
   "cell_type": "code",
   "execution_count": 70,
   "id": "212af9fd",
   "metadata": {},
   "outputs": [
    {
     "name": "stdout",
     "output_type": "stream",
     "text": [
      "Entered list: ['debit_card', 'bad_credit', 'silent', 'listen', 'enlist', 'google', 'gogole', 'goo_gel']\n",
      "Grouped anagrams: [['debit_card', 'bad_credit'], ['silent', 'listen', 'enlist'], ['google', 'gogole'], ['goo_gel']]\n"
     ]
    }
   ],
   "source": [
    "def group_anagrams(words: list[str]) -> list[list[str]]:\n",
    "    if not words:\n",
    "        return []\n",
    "    anagram = [[words[0]]]\n",
    "    for word in words[1:]:\n",
    "        for group in anagram:\n",
    "            if sorted(word) == sorted(group[0]):\n",
    "                group.append(word)\n",
    "                break\n",
    "        else:\n",
    "            anagram.append([word])\n",
    "    return anagram\n",
    "\n",
    "assert group_anagrams([\"bat\", \"tab\", \"tap\", \"pat\", \"cat\"]) == [[\"bat\", \"tab\"], [\"tap\", \"pat\"], [\"cat\"]]\n",
    "assert group_anagrams([\"a bc\", \"c ba\", \"abc\"]) == [[\"a bc\", \"c ba\"], [\"abc\"]]\n",
    "assert group_anagrams([\"test\", \"test\", \"sett\"]) == [[\"test\", \"test\", \"sett\"]]\n",
    "assert group_anagrams([\"aCt\", \"tAc\", \"Cat\"]) == [[\"aCt\", \"Cat\"], [\"tAc\"]]\n",
    "assert group_anagrams([]) == []\n",
    "assert group_anagrams([\"123\", \"231\", \"312\", \"213\", \"dog\", \"god\"]) == [[\"123\", \"231\", \"312\", \"213\"], [\"dog\", \"god\"]]\n",
    "assert group_anagrams([\"dog!\", \"!god\", \"odg\", \"gdo\"]) == [[\"dog!\", \"!god\"], [\"odg\", \"gdo\"]]\n",
    "\n",
    "if __name__ == \"__main__\":\n",
    "    try:\n",
    "        text = input(\"Enter the words (separate via space): \")\n",
    "        print(f\"Entered list: {text.split()}\")\n",
    "        print(f\"Grouped anagrams: {group_anagrams(text.split())}\")\n",
    "    except Exception as e:\n",
    "        print(f\"An Error occurred {e}\")"
   ]
  },
  {
   "cell_type": "code",
   "execution_count": null,
   "id": "ed1e3eff",
   "metadata": {},
   "outputs": [],
   "source": []
  }
 ],
 "metadata": {
  "kernelspec": {
   "display_name": "Python 3",
   "language": "python",
   "name": "python3"
  },
  "language_info": {
   "codemirror_mode": {
    "name": "ipython",
    "version": 3
   },
   "file_extension": ".py",
   "mimetype": "text/x-python",
   "name": "python",
   "nbconvert_exporter": "python",
   "pygments_lexer": "ipython3",
   "version": "3.11.9"
  }
 },
 "nbformat": 4,
 "nbformat_minor": 5
}
