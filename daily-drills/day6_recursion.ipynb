{
 "cells": [
  {
   "cell_type": "markdown",
   "id": "1dc3502b",
   "metadata": {},
   "source": [
    "#### **Write a function nested_sum that takes a list of integers or nested lists and returns the total sum of all integers.**"
   ]
  },
  {
   "cell_type": "code",
   "execution_count": 5,
   "id": "324b939e",
   "metadata": {},
   "outputs": [
    {
     "name": "stdout",
     "output_type": "stream",
     "text": [
      "Nested List: [[1, [2]], [[[3]]], 4, [[5, 6], [[[7]]]]],\n",
      "Sum: 28\n"
     ]
    }
   ],
   "source": [
    "def nested_sum(nested_list: int | list) -> int:\n",
    "    \"\"\"\n",
    "    Calculates the sum of all integer elements within a nested list.\n",
    "    Returns: The sum of all integers found within the nested list structure.\n",
    "    \"\"\"\n",
    "    if isinstance(nested_list, int):\n",
    "        return nested_list\n",
    "    return sum((nested_sum(sublist)) for sublist in nested_list)\n",
    "\n",
    "assert nested_sum([1, [2, 3], [4, [5]]]) == 15\n",
    "assert nested_sum([1, [1, [1, [1]]]]) == 4\n",
    "assert nested_sum([]) == 0\n",
    "assert nested_sum([1, 2, 3]) == 6\n",
    "assert nested_sum([[1, 2], [3, 4]]) == 10\n",
    "assert nested_sum([[], [1, []]]) == 1\n",
    "\n",
    "try:\n",
    "    nested_list = [[1, [2]], [[[3]]], 4, [[5, 6], [[[7]]]]]\n",
    "    print(f\"Nested List: {nested_list},\\nSum: {nested_sum(nested_list)}\")\n",
    "except Exception as e:\n",
    "    print(f\"An error {e} occurred.\")"
   ]
  },
  {
   "cell_type": "markdown",
   "id": "84dbfb8f",
   "metadata": {},
   "source": [
    "#### **Write a recursive function to flatten it into a single list of values.**"
   ]
  },
  {
   "cell_type": "code",
   "execution_count": 11,
   "id": "626fe5cf",
   "metadata": {},
   "outputs": [
    {
     "data": {
      "text/plain": [
       "[[2, 3]]"
      ]
     },
     "execution_count": 11,
     "metadata": {},
     "output_type": "execute_result"
    }
   ],
   "source": [
    "a = [[2,3]]\n",
    "list(item for item in a)"
   ]
  },
  {
   "cell_type": "code",
   "execution_count": 14,
   "id": "8bacdd90",
   "metadata": {},
   "outputs": [
    {
     "name": "stdout",
     "output_type": "stream",
     "text": [
      "Nested List: [[1, [2, 3]], [2, 5], [3]], \n",
      "Flattened List: [1, 2, 3, 2, 5, 3]\n"
     ]
    }
   ],
   "source": [
    "def flatten(nested_list: int | list) -> list:\n",
    "    if isinstance(nested_list, int):\n",
    "        return [nested_list]\n",
    "    flat_list = []\n",
    "    for sublist in nested_list:\n",
    "        flat_list.extend(flatten(sublist))\n",
    "    return flat_list\n",
    "\n",
    "assert flatten([1, [2, 3], [[4], 5]]) == [1, 2, 3, 4, 5]\n",
    "assert flatten([1, [2, [3, [4, [5]]]]]) == [1, 2, 3, 4, 5]\n",
    "assert flatten([[1, [2]], [[[3]]], 4, [[5, 6], [[[7]]]]]) == [1, 2, 3, 4, 5, 6, 7]\n",
    "assert flatten([[]]) == []\n",
    "\n",
    "try:\n",
    "    nested_list = [[1, [2, 3]], [2, 5], [3]]\n",
    "    print(f\"Nested List: {nested_list}, \\nFlattened List: {flatten(nested_list)}\")\n",
    "except Exception as e:\n",
    "    print(f\"An error {e} occurred.\")"
   ]
  },
  {
   "cell_type": "markdown",
   "id": "9c69b2ef",
   "metadata": {},
   "source": [
    "#### **Implement a BinarySearchTree Class with Insert & Search**"
   ]
  },
  {
   "cell_type": "code",
   "execution_count": 21,
   "id": "9f4016a4",
   "metadata": {},
   "outputs": [
    {
     "data": {
      "text/plain": [
       "[1, 12, 12, 15, 23, 34, 37, 42, 43]"
      ]
     },
     "execution_count": 21,
     "metadata": {},
     "output_type": "execute_result"
    }
   ],
   "source": [
    "a = [1, 12, 12, 43, 37, 42, 15, 23]\n",
    "sorted(a)\n",
    "a.append(34)\n",
    "a = sorted(a)\n",
    "a"
   ]
  },
  {
   "cell_type": "code",
   "execution_count": 25,
   "id": "6f5cb3f5",
   "metadata": {},
   "outputs": [],
   "source": [
    "class BinarySearchTree:\n",
    "    def __init__(self):\n",
    "        self._items = []\n",
    "\n",
    "    def insert(self, item, dup):\n",
    "        pass\n",
    "\n",
    "    def search(self, item):\n",
    "        pass\n",
    "\n",
    "bst = BinarySearchTree()\n",
    "bst.insert(10, True)\n",
    "bst.insert(5, False)\n",
    "bst.insert(15, False)\n",
    "bst.insert(10, False)\n",
    "\n",
    "# assert bst.search(5) == True\n",
    "# assert bst.search(8) == False"
   ]
  },
  {
   "cell_type": "markdown",
   "id": "e2c3ea3d",
   "metadata": {},
   "source": [
    "#### **Check if you can convert word1 to word2 by changing one letter at a time, with each intermediate word being in the dictionary.**"
   ]
  },
  {
   "cell_type": "markdown",
   "id": "b007327f",
   "metadata": {},
   "source": []
  }
 ],
 "metadata": {
  "kernelspec": {
   "display_name": "Python 3",
   "language": "python",
   "name": "python3"
  },
  "language_info": {
   "codemirror_mode": {
    "name": "ipython",
    "version": 3
   },
   "file_extension": ".py",
   "mimetype": "text/x-python",
   "name": "python",
   "nbconvert_exporter": "python",
   "pygments_lexer": "ipython3",
   "version": "3.11.9"
  }
 },
 "nbformat": 4,
 "nbformat_minor": 5
}
